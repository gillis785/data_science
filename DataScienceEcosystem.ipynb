{
 "cells": [
  {
   "cell_type": "markdown",
   "id": "045fc117-4ee1-4ef9-ae2c-a549896cb22d",
   "metadata": {},
   "source": [
    "# Data Science Tools and Ecosystem"
   ]
  },
  {
   "cell_type": "markdown",
   "id": "2f4d6989-e7a4-42ee-84d5-c2e77f1b0e2d",
   "metadata": {},
   "source": [
    "Data Science Tools and Ecosystem are summarized."
   ]
  },
  {
   "cell_type": "markdown",
   "id": "33a1796d-97ee-4341-b330-dcaa06c6c341",
   "metadata": {},
   "source": [
    "**Some of the popular languages that Data Scientists use are:**\n",
    "1. Python\n",
    "2. R\n",
    "3. SQL\n",
    "4. Scala\n",
    "5. Java\n",
    "6. C++\n",
    "7. Julia"
   ]
  },
  {
   "cell_type": "markdown",
   "id": "77eba4d0-0aed-4968-a769-bdb2214fb92a",
   "metadata": {},
   "source": [
    "**Some of the commonly used libraries used by Data Scientists include:**\n",
    "1. SciPY\n",
    "2. NumPy\n",
    "3. Pandas\n",
    "4. Matplotlib\n",
    "5. TensorFlow\n",
    "6. Pytorch\n",
    "7. Keras\n",
    "8. Scikit-learn"
   ]
  },
  {
   "cell_type": "markdown",
   "id": "3c1bba5a-c3be-4af2-9e53-0dd7d387460c",
   "metadata": {},
   "source": [
    "|Data Science Tools|\n",
    "|-|\n",
    "|Jupyter Notebook / JupyterLab|\n",
    "|RStudio|\n",
    "|Apache Spark|"
   ]
  },
  {
   "cell_type": "markdown",
   "id": "fdfb16c4-b023-4c1f-9898-ca1e57267eb3",
   "metadata": {},
   "source": [
    "### Below are a few examples of evaluating arithmetic expressions in Python."
   ]
  },
  {
   "cell_type": "code",
   "execution_count": 7,
   "id": "f32f504a-85f8-405e-b1c3-08eb2265db79",
   "metadata": {},
   "outputs": [
    {
     "name": "stdout",
     "output_type": "stream",
     "text": [
      "17\n"
     ]
    }
   ],
   "source": [
    "# This a simple arithmetic expression to mutiply then add integers.\n",
    "\n",
    "total = (3*4)+5\n",
    "print(total)"
   ]
  },
  {
   "cell_type": "code",
   "execution_count": 8,
   "id": "813339bc-5ad1-48aa-a427-c1752473e5bd",
   "metadata": {},
   "outputs": [
    {
     "name": "stdout",
     "output_type": "stream",
     "text": [
      "3.3333333333333335\n"
     ]
    }
   ],
   "source": [
    "# This code will convert 200 minutes to hours by dividing by 60. You can use the // to round it to nearest hour.\n",
    "\n",
    "print(200/60)"
   ]
  },
  {
   "cell_type": "markdown",
   "id": "a4a29c46-e584-45e8-82e4-03fa90eed633",
   "metadata": {},
   "source": [
    "__Objectives:__\n",
    "- List popular languages for Data Science.\n",
    "- Some of the commonly used libraries used by Data Scientists.\n",
    "- Some Data Science Tools.\n",
    "- Examples of evaluating arithmetic expressions in Python."
   ]
  },
  {
   "cell_type": "markdown",
   "id": "58fc2ce1-cc71-4c87-82bc-51036bd19c39",
   "metadata": {},
   "source": [
    "## Author\n",
    "Gilles B"
   ]
  }
 ],
 "metadata": {
  "kernelspec": {
   "display_name": "Python 3 (ipykernel)",
   "language": "python",
   "name": "python3"
  },
  "language_info": {
   "codemirror_mode": {
    "name": "ipython",
    "version": 3
   },
   "file_extension": ".py",
   "mimetype": "text/x-python",
   "name": "python",
   "nbconvert_exporter": "python",
   "pygments_lexer": "ipython3",
   "version": "3.11.7"
  }
 },
 "nbformat": 4,
 "nbformat_minor": 5
}
